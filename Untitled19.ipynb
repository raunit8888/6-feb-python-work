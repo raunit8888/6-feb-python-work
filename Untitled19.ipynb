{
 "cells": [
  {
   "cell_type": "code",
   "execution_count": null,
   "id": "5e2c0c27-0f09-45eb-b5b9-b8fee9194e51",
   "metadata": {},
   "outputs": [],
   "source": [
    "#1Q1. Create a function which will take a list as an argument and return the product of all the numbers\n",
    "after creating a flat list.\n",
    "Use the below-given list as an argument for your function.\n",
    "list1 = [1,2,3,4, [44,55,66, True], False, (34,56,78,89,34), {1,2,3,3,2,1}, {1:34, \"key2\": [55, 67, 78, 89], 4: (45,\n",
    "22, 61, 34)}, [56, 'data science'], 'Machine Learning']\n",
    "Note: you must extract numeric keys and values of the dictionary also.\n",
    "\n"
   ]
  },
  {
   "cell_type": "code",
   "execution_count": 1,
   "id": "d494ea43-365c-409b-b1ff-79fadf2eecfb",
   "metadata": {},
   "outputs": [
    {
     "name": "stdout",
     "output_type": "stream",
     "text": [
      "The product of all numbers is: 0\n"
     ]
    }
   ],
   "source": [
    "from functools import reduce\n",
    "import operator\n",
    "\n",
    "def flatten_list(lst):\n",
    "    \"\"\"Flatten a nested list.\"\"\"\n",
    "    flat_list = []\n",
    "    for item in lst:\n",
    "        if isinstance(item, list):\n",
    "            flat_list.extend(flatten_list(item))  # Recursively flatten lists\n",
    "        elif isinstance(item, tuple):\n",
    "            flat_list.extend(flatten_list(item))  # Recursively flatten tuples\n",
    "        elif isinstance(item, set):\n",
    "            flat_list.extend(flatten_list(list(item)))  # Convert set to list and flatten\n",
    "        elif isinstance(item, dict):\n",
    "            flat_list.extend(flatten_list(list(item.keys())))  # Flatten keys\n",
    "            flat_list.extend(flatten_list(list(item.values())))  # Flatten values\n",
    "        else:\n",
    "            flat_list.append(item)  # Append non-iterable items\n",
    "    return flat_list\n",
    "\n",
    "def extract_numbers(flat_list):\n",
    "    \"\"\"Extract numeric values from a flattened list.\"\"\"\n",
    "    numbers = [item for item in flat_list if isinstance(item, (int, float))]\n",
    "    return numbers\n",
    "\n",
    "def product_of_numbers(numbers):\n",
    "    \"\"\"Calculate the product of a list of numbers.\"\"\"\n",
    "    if not numbers:\n",
    "        return 1  # Return 1 if the list is empty (neutral element for multiplication)\n",
    "    return reduce(operator.mul, numbers, 1)\n",
    "\n",
    "def calculate_product_of_flat_list(lst):\n",
    "    \"\"\"Main function to compute the product of all numbers in a nested list.\"\"\"\n",
    "    flat_list = flatten_list(lst)\n",
    "    numbers = extract_numbers(flat_list)\n",
    "    return product_of_numbers(numbers)\n",
    "\n",
    "# Given list\n",
    "list1 = [1, 2, 3, 4, [44, 55, 66, True], False, (34, 56, 78, 89, 34), {1, 2, 3, 3, 2, 1}, {1: 34, \"key2\": [55, 67, 78, 89], 4: (45, 22, 61, 34)}, [56, 'data science'], 'Machine Learning']\n",
    "\n",
    "# Calculate and print the product of all numbers\n",
    "product = calculate_product_of_flat_list(list1)\n",
    "print(f\"The product of all numbers is: {product}\")\n"
   ]
  },
  {
   "cell_type": "code",
   "execution_count": null,
   "id": "ddfdb6a8-ea48-47aa-b690-1abbed4dcd10",
   "metadata": {},
   "outputs": [],
   "source": [
    "#2 Q2. Write a python program for encrypting a message sent to you by your friend. The logic of encryption\n",
    "should be such that, for a the output should be z. For b, the output should be y. For c, the output should\n",
    "be x respectively. Also, the whitespace should be replaced with a dollar sign. Keep the punctuation\n",
    "marks unchanged.\n",
    "Input Sentence: I want to become a Data Scientist.\n",
    "Encrypt the above input sentence using the program you just created.\n",
    "Note: Convert the given input sentence into lowercase before encrypting. The final output should be\n",
    "lowercase.\n"
   ]
  }
 ],
 "metadata": {
  "kernelspec": {
   "display_name": "Python 3 (ipykernel)",
   "language": "python",
   "name": "python3"
  },
  "language_info": {
   "codemirror_mode": {
    "name": "ipython",
    "version": 3
   },
   "file_extension": ".py",
   "mimetype": "text/x-python",
   "name": "python",
   "nbconvert_exporter": "python",
   "pygments_lexer": "ipython3",
   "version": "3.10.8"
  }
 },
 "nbformat": 4,
 "nbformat_minor": 5
}
